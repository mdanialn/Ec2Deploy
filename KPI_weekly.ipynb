{
 "cells": [
  {
   "cell_type": "code",
   "execution_count": 1,
   "id": "8eb5256b-37ab-4fc3-a49f-3affd488f5c2",
   "metadata": {},
   "outputs": [],
   "source": [
    "import pandas as pd\n",
    "import datetime as dt\n",
    "import psycopg2\n",
    "import json\n",
    "import sys\n",
    "import requests\n",
    "import utils.subscriberDB_calcs\n",
    "del sys.modules['utils.subscriberDB_calcs']\n",
    "import utils.subscriberDB_calcs\n",
    "\n",
    "from utils import productionAnalysis"
   ]
  },
  {
   "cell_type": "code",
   "execution_count": 2,
   "id": "f1b3b8b9-c03f-490e-95dc-6baa4fa4870d",
   "metadata": {},
   "outputs": [],
   "source": [
    "##key outputs -- subscriberCalcs_df + production_data_summary"
   ]
  },
  {
   "cell_type": "code",
   "execution_count": 3,
   "id": "1a7a0bf1-0a6e-40c0-b05d-022c9d6084a5",
   "metadata": {},
   "outputs": [],
   "source": [
    "community = 'Quail Ridge'\n",
    "start_date ='2024-10-11'\n",
    "end_date = '2024-10-17'\n",
    "vnem_btm = 'BTM-PVBESS' #'BTM-PV' 'VNEM'\n",
    "nem_ix = 'NEM2' #'NBT'"
   ]
  },
  {
   "cell_type": "code",
   "execution_count": 4,
   "id": "cd0e2e9c-5e05-4160-bbd0-684df8651d27",
   "metadata": {},
   "outputs": [],
   "source": [
    "with open(\"creds.json\") as f:\n",
    "    data=f.read()\n",
    "js = json.loads(data)\n",
    "subscriberCalcs_df, units_df, subscriber_df, commission_occupied_df =utils.subscriberDB_calcs.runSubscriberCalcs(js,community,start_date,end_date, nem_ix, vnem_btm)\n"
   ]
  },
  {
   "cell_type": "code",
   "execution_count": 5,
   "id": "aa05cb4b-9128-4301-a4b9-ddd15982a386",
   "metadata": {},
   "outputs": [
    {
     "data": {
      "text/html": [
       "<div>\n",
       "<style scoped>\n",
       "    .dataframe tbody tr th:only-of-type {\n",
       "        vertical-align: middle;\n",
       "    }\n",
       "\n",
       "    .dataframe tbody tr th {\n",
       "        vertical-align: top;\n",
       "    }\n",
       "\n",
       "    .dataframe thead th {\n",
       "        text-align: right;\n",
       "    }\n",
       "</style>\n",
       "<table border=\"1\" class=\"dataframe\">\n",
       "  <thead>\n",
       "    <tr style=\"text-align: right;\">\n",
       "      <th></th>\n",
       "      <th>CARE_count</th>\n",
       "      <th>nonCARE_count</th>\n",
       "      <th>non_subscribed_count</th>\n",
       "    </tr>\n",
       "  </thead>\n",
       "  <tbody>\n",
       "    <tr>\n",
       "      <th>0</th>\n",
       "      <td>25</td>\n",
       "      <td>21</td>\n",
       "      <td>35</td>\n",
       "    </tr>\n",
       "  </tbody>\n",
       "</table>\n",
       "</div>"
      ],
      "text/plain": [
       "   CARE_count  nonCARE_count  non_subscribed_count\n",
       "0          25             21                    35"
      ]
     },
     "execution_count": 5,
     "metadata": {},
     "output_type": "execute_result"
    }
   ],
   "source": [
    "subscriberCalcs_df"
   ]
  },
  {
   "cell_type": "code",
   "execution_count": 5,
   "id": "09f251e8-767f-4be9-b755-22131cdd10da",
   "metadata": {},
   "outputs": [],
   "source": [
    "# Get Access Token\n",
    "url = 'https://flextrons.io/api/v1/auth/login'\n",
    "\n",
    "headers = {'accept': 'application/json','Content-Type': 'application/json'}\n",
    "data = {\"email\": \"\", \"password\":\"\"}\n",
    "px_flex_creds = requests.post(url, headers = headers, data = json.dumps(data)).json()"
   ]
  },
  {
   "cell_type": "code",
   "execution_count": null,
   "id": "009f13d2-8b22-4f47-bf7f-dd6233ff2b2d",
   "metadata": {},
   "outputs": [],
   "source": [
    "# Process Production Data\n",
    "commission_occupied_df = commission_occupied_df[commission_occupied_df['nem_ix'] == nem_ix]\n",
    "commission_occupied_df = commission_occupied_df[commission_occupied_df['vnem_btm'] == vnem_btm]\n",
    "production_data_summary, eventPerformanceSummary_df = productionAnalysis.productionAnalysis(px_flex_creds, community,subscriber_df, commission_occupied_df, start_date, end_date, nem_ix)\n",
    "\n",
    "\n",
    "\n",
    "\n"
   ]
  }
 ],
 "metadata": {
  "kernelspec": {
   "display_name": "mlenv",
   "language": "python",
   "name": "mlenv"
  },
  "language_info": {
   "codemirror_mode": {
    "name": "ipython",
    "version": 3
   },
   "file_extension": ".py",
   "mimetype": "text/x-python",
   "name": "python",
   "nbconvert_exporter": "python",
   "pygments_lexer": "ipython3",
   "version": "3.9.7"
  }
 },
 "nbformat": 4,
 "nbformat_minor": 5
}
